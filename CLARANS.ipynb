{
  "nbformat": 4,
  "nbformat_minor": 0,
  "metadata": {
    "colab": {
      "provenance": [],
      "toc_visible": true,
      "authorship_tag": "ABX9TyPfCkVgU3kmVzQZFdU7vO4W",
      "include_colab_link": true
    },
    "kernelspec": {
      "name": "python3",
      "display_name": "Python 3"
    },
    "language_info": {
      "name": "python"
    }
  },
  "cells": [
    {
      "cell_type": "markdown",
      "metadata": {
        "id": "view-in-github",
        "colab_type": "text"
      },
      "source": [
        "<a href=\"https://colab.research.google.com/github/Ashail33/Masters-work/blob/master/CLARANS.ipynb\" target=\"_parent\"><img src=\"https://colab.research.google.com/assets/colab-badge.svg\" alt=\"Open In Colab\"/></a>"
      ]
    },
    {
      "cell_type": "code",
      "execution_count": null,
      "metadata": {
        "id": "_fQ5GC8eI6fS"
      },
      "outputs": [],
      "source": [
        "def clarans_clustering(data, num_clusters, max_neighbors, max_local_reassignments):\n",
        "\n",
        "initialize variables\n",
        "clusters = []\n",
        "current_medoids = random.sample(data, num_clusters)\n",
        "current_cost = calculate_cost(data, current_medoids)\n",
        "\n",
        "#initialize best solution as the current solution\n",
        "best_medoids = current_medoids\n",
        "best_cost = current_cost\n",
        "\n",
        "for i in range(max_neighbors):\n",
        "# generate random neighbor by swapping one medoid with a non-medoid point\n",
        "random_medoid_index = random.randint(0, num_clusters - 1)\n",
        "random_medoid = current_medoids[random_medoid_index]\n",
        "random_non_medoid = random.choice([point for point in data if point not in current_medoids])\n",
        "new_medoids = current_medoids[:random_medoid_index] + [random_non_medoid] + current_medoids[random_medoid_index + 1:]\n",
        "\n",
        "\n",
        "# calculate cost of new medoids\n",
        "new_cost = calculate_cost(data, new_medoids)\n",
        "\n",
        "if new_cost < current_cost:\n",
        "  # update current solution\n",
        "  current_medoids = new_medoids\n",
        "  current_cost = new_cost\n",
        "\n",
        "  # update best solution if necessary\n",
        "  if new_cost < best_cost:\n",
        "    best_medoids = new_medoids\n",
        "    best_cost = new_cost\n",
        "else:\n",
        "  # do local reassignment if necessary\n",
        "  for j in range(max_local_reassignments):\n",
        "    non_medoid = random.choice([point for point in data if point not in current_medoids])\n",
        "    new_medoids = current_medoids[:random_medoid_index] + [non_medoid] + current_medoids[random_medoid_index + 1:]\n",
        "\n",
        "    new_cost = calculate_cost(data, new_medoids)\n",
        "\n",
        "    if new_cost < current_cost:\n",
        "      current_medoids = new_medoids\n",
        "      current_cost = new_cost\n",
        "\n",
        "      if new_cost < best_cost:\n",
        "        best_medoids = new_medoids\n",
        "        best_cost = new_cost\n",
        "#assign points to clusters based on best medoids\n",
        "clusters = [[] for _ in range(num_clusters)]\n",
        "for point in data:\n",
        "distances = [distance(point, medoid) for medoid in best_medoids]\n",
        "closest_medoid_index = distances.index(min(distances))\n",
        "clusters[closest_medoid_index].append(point)\n",
        "\n",
        "return clusters"
      ]
    }
  ]
}