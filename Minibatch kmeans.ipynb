{
  "nbformat": 4,
  "nbformat_minor": 0,
  "metadata": {
    "colab": {
      "provenance": [],
      "authorship_tag": "ABX9TyN3H8TOncKgP6NtlK0kp/RQ",
      "include_colab_link": true
    },
    "kernelspec": {
      "name": "python3",
      "display_name": "Python 3"
    },
    "language_info": {
      "name": "python"
    }
  },
  "cells": [
    {
      "cell_type": "markdown",
      "metadata": {
        "id": "view-in-github",
        "colab_type": "text"
      },
      "source": [
        "<a href=\"https://colab.research.google.com/github/Ashail33/Masters-work/blob/master/Minibatch%20kmeans.ipynb\" target=\"_parent\"><img src=\"https://colab.research.google.com/assets/colab-badge.svg\" alt=\"Open In Colab\"/></a>"
      ]
    },
    {
      "cell_type": "code",
      "execution_count": null,
      "metadata": {
        "id": "OkH-Lh7yvzfC"
      },
      "outputs": [],
      "source": [
        "from sklearn.cluster import MiniBatchKMeans\n",
        "\n",
        "def minibatch_kmeans(data, num_clusters, batch_size):\n",
        "\n",
        "  #initialize and fit MiniBatchKMeans model\n",
        "  model = MiniBatchKMeans(n_clusters=num_clusters, batch_size=batch_size)\n",
        "  model.fit(data)\n",
        "\n",
        "#return clusters\n",
        "return model.cluster_centers_"
      ]
    }
  ]
}