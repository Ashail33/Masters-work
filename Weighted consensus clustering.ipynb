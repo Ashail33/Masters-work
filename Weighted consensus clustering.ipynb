{
  "nbformat": 4,
  "nbformat_minor": 0,
  "metadata": {
    "colab": {
      "provenance": [],
      "authorship_tag": "ABX9TyPJ5x0jeyMJSqoSuwdjnbIX",
      "include_colab_link": true
    },
    "kernelspec": {
      "name": "python3",
      "display_name": "Python 3"
    },
    "language_info": {
      "name": "python"
    }
  },
  "cells": [
    {
      "cell_type": "markdown",
      "metadata": {
        "id": "view-in-github",
        "colab_type": "text"
      },
      "source": [
        "<a href=\"https://colab.research.google.com/github/Ashail33/Masters-work/blob/master/Weighted%20consensus%20clustering.ipynb\" target=\"_parent\"><img src=\"https://colab.research.google.com/assets/colab-badge.svg\" alt=\"Open In Colab\"/></a>"
      ]
    },
    {
      "cell_type": "code",
      "execution_count": null,
      "metadata": {
        "id": "s3B3ZnqxwZsp"
      },
      "outputs": [],
      "source": [
        "from sklearn.cluster import AgglomerativeClustering\n",
        "\n",
        "def weighted_consensus_clustering(data, num_clusters, weights):\n",
        "\n",
        "# initialize variables\n",
        "  clusters = []\n",
        "  consensus_matrix = np.zeros((len(data), len(data)))\n",
        "\n",
        "  # create consensus matrix by applying weighted average consensus function to each pair of points\n",
        "  for i in range(len(data)):\n",
        "    for j in range(i + 1, len(data)):\n",
        "      consensus_matrix[i][j] = weighted_average_consensus(data[i], data[j], weights)\n",
        "      consensus_matrix[j][i] = consensus_matrix[i][j]\n",
        "\n",
        "  # apply hierarchical clustering to consensus matrix\n",
        "  model = AgglomerativeClustering(n_clusters=num_clusters)\n",
        "  model.fit(consensus_matrix)\n",
        "\n",
        "  # assign points to clusters\n",
        "  clusters = [[] for _ in range(num_clusters)]\n",
        "  for i, label in enumerate(model.labels_):\n",
        "    clusters[label].append(data[i])\n",
        "\n",
        "return clusters"
      ]
    }
  ]
}