{
  "nbformat": 4,
  "nbformat_minor": 0,
  "metadata": {
    "colab": {
      "provenance": [],
      "machine_shape": "hm",
      "gpuType": "V100",
      "authorship_tag": "ABX9TyP+sYDOXniX+9dbyIYRQI3A",
      "include_colab_link": true
    },
    "kernelspec": {
      "name": "python3",
      "display_name": "Python 3"
    },
    "language_info": {
      "name": "python"
    },
    "gpuClass": "standard"
  },
  "cells": [
    {
      "cell_type": "markdown",
      "metadata": {
        "id": "view-in-github",
        "colab_type": "text"
      },
      "source": [
        "<a href=\"https://colab.research.google.com/github/Ashail33/Masters-work/blob/master/Clustering%20data%20creation.ipynb\" target=\"_parent\"><img src=\"https://colab.research.google.com/assets/colab-badge.svg\" alt=\"Open In Colab\"/></a>"
      ]
    },
    {
      "cell_type": "code",
      "execution_count": 2,
      "metadata": {
        "colab": {
          "base_uri": "https://localhost:8080/"
        },
        "id": "Wil6vAzaCqas",
        "outputId": "200b90f5-9195-41f3-a11b-7c454830b50e"
      },
      "outputs": [
        {
          "output_type": "stream",
          "name": "stdout",
          "text": [
            "Looking in indexes: https://pypi.org/simple, https://us-python.pkg.dev/colab-wheels/public/simple/\n",
            "Collecting git+https://github.com/Ashail33/mdcgenpy\n",
            "  Cloning https://github.com/Ashail33/mdcgenpy to /tmp/pip-req-build-nt451c5m\n",
            "  Running command git clone --filter=blob:none --quiet https://github.com/Ashail33/mdcgenpy /tmp/pip-req-build-nt451c5m\n",
            "  Resolved https://github.com/Ashail33/mdcgenpy to commit 2e1580719361905a65ca58a42c039a3038276c95\n",
            "  Preparing metadata (setup.py) ... \u001b[?25l\u001b[?25hdone\n",
            "Requirement already satisfied: six in /usr/local/lib/python3.10/dist-packages (from mdcgenpy==1.0.0) (1.16.0)\n",
            "Requirement already satisfied: scipy in /usr/local/lib/python3.10/dist-packages (from mdcgenpy==1.0.0) (1.10.1)\n",
            "Requirement already satisfied: numpy<1.27.0,>=1.19.5 in /usr/local/lib/python3.10/dist-packages (from scipy->mdcgenpy==1.0.0) (1.22.4)\n",
            "Building wheels for collected packages: mdcgenpy\n",
            "  Building wheel for mdcgenpy (setup.py) ... \u001b[?25l\u001b[?25hdone\n",
            "  Created wheel for mdcgenpy: filename=mdcgenpy-1.0.0-py3-none-any.whl size=24119 sha256=62df47454ee43c8f9cc402c847e588ded6ec95bd5e8ece2099a285f3ab8cab5b\n",
            "  Stored in directory: /tmp/pip-ephem-wheel-cache-9so3cfyl/wheels/17/85/f8/346c4006c2269fb848b0f7f13586b92df1aa0451d93761ec8b\n",
            "Successfully built mdcgenpy\n",
            "Installing collected packages: mdcgenpy\n",
            "Successfully installed mdcgenpy-1.0.0\n"
          ]
        }
      ],
      "source": [
        "!pip install git+https://github.com/Ashail33/mdcgenpy\n",
        "\n",
        "from  mdcgenpy import clusters as cl\n",
        "import numpy as np\n",
        "import pandas as pd\n",
        "\n",
        "# The properties I will be adding to the dataset are:\n",
        "#     1) Outliers - Binary ( two options) - outliers\n",
        "#     2) Noise - Binary ( two options) add_noise=0,n_noise=None,\n",
        "#     3) Number of clusters - I will select three values k\n",
        "#     4) Number of data points - I will select three values ( 100 000, 1 000 000, 100 000 000)n_samples\n",
        "#     5) Number of features - I will select five values ( 2, 10, 50, 100, 500) n_feats\n",
        "#     6) Density - I will select three values compactness_factor\n",
        "#     --7) Cluster shape - I will select three types - clusters within a radius ,  hollow shaped clusters , s-shaped / c-shaped clusters\n",
        "#      distributions\n",
        "#         'uniform': lambda shape, param: np.random.uniform(-param, param, shape),\n",
        "#     'gaussian': lambda shape, param: np.random.normal(0, param, shape),\n",
        "#     'logistic': lambda shape, param: np.random.logistic(0, param, shape),\n",
        "#     'triangular': lambda shape, param: np.random.triangular(-param, 0, param, shape),\n",
        "#     'gamma': lambda shape, param: np.random.gamma(2 + 8 * np.random.rand(), param / 5, shape),\n",
        "#     'gap': lambda shape, param: gap(shape, param)\n",
        "\n",
        "# --8) Missing values - this will need to be created by randomly removing values up to a certain number of columns and records\n"
      ]
    },
    {
      "cell_type": "code",
      "source": [
        "zz=[[2,1,5],[3,4,3],[6,7,9]]"
      ],
      "metadata": {
        "id": "uqW6Mk8yTBSo"
      },
      "execution_count": 3,
      "outputs": []
    },
    {
      "cell_type": "code",
      "source": [
        "list(zip(*zz))"
      ],
      "metadata": {
        "id": "7bor-mySUqkm",
        "outputId": "eb72a18a-6078-40c2-f862-7af4d0a93ade",
        "colab": {
          "base_uri": "https://localhost:8080/"
        }
      },
      "execution_count": 4,
      "outputs": [
        {
          "output_type": "execute_result",
          "data": {
            "text/plain": [
              "[(2, 3, 6), (1, 4, 7), (5, 3, 9)]"
            ]
          },
          "metadata": {},
          "execution_count": 4
        }
      ]
    },
    {
      "cell_type": "code",
      "source": [
        "# ,compactness_factor=[0.1,0.2,0.5,0.6,0.01],n_noise=[1,1,1,1,1]"
      ],
      "metadata": {
        "id": "f-W8SlpTd6AZ"
      },
      "execution_count": null,
      "outputs": []
    },
    {
      "cell_type": "code",
      "source": [
        "# ['triangular','triangular','triangular','triangular','triangular']"
      ],
      "metadata": {
        "colab": {
          "base_uri": "https://localhost:8080/"
        },
        "id": "xrQVtehHn2fa",
        "outputId": "94dbdea7-1d3a-4ba3-ec4f-64f012e0a313"
      },
      "execution_count": null,
      "outputs": [
        {
          "output_type": "execute_result",
          "data": {
            "text/plain": [
              "set"
            ]
          },
          "metadata": {},
          "execution_count": 134
        }
      ]
    },
    {
      "cell_type": "code",
      "source": [
        "cluster_gen=cl.ClusterGenerator(n_samples=1300000,k=[100000,100000,100000,100000,100000,400000,400000],compactness_factor=[0.1,0.2,0.3,0.4,0.5,0.7,0.1],n_feats=7,distributions=['uniform','triangular','normal','gamma','gap','gamma','normal'],scale=False,outliers=100,rotate=True,mv=[0,1,1,1,0,0,0],)"
      ],
      "metadata": {
        "id": "mefjM8H-F3Xk"
      },
      "execution_count": 5,
      "outputs": []
    },
    {
      "cell_type": "code",
      "source": [
        "# cluster_gen=cl.ClusterGenerator(n_samples=100000,k=5,outliers= 500,n_feats=5,distributions='triangular')"
      ],
      "metadata": {
        "id": "79It0wuE3AQi"
      },
      "execution_count": null,
      "outputs": []
    },
    {
      "cell_type": "code",
      "source": [
        "# data = cluster_gen.generate_data()\n",
        "# need to figure out where variable shape comes from and change that"
      ],
      "metadata": {
        "id": "C4g4ijqLkbuy"
      },
      "execution_count": null,
      "outputs": []
    },
    {
      "cell_type": "code",
      "source": [
        "# Get tuple with a numpy array with samples and another with labels\n",
        "data = cluster_gen.generate_data()\n",
        "\n",
        "y=pd.DataFrame(data[1])# labels\n",
        "y.columns=['cluster']\n",
        "\n",
        "x=pd.DataFrame(data[0],) # dataset with features\n",
        "\n",
        "zz=pd.concat([x,y],axis=1)"
      ],
      "metadata": {
        "colab": {
          "base_uri": "https://localhost:8080/"
        },
        "id": "7F-DJfuJFtrY",
        "outputId": "b4f81ab6-7267-495b-9c3d-173dbbf29140"
      },
      "execution_count": 6,
      "outputs": [
        {
          "output_type": "stream",
          "name": "stdout",
          "text": [
            "99614\n",
            "100068\n",
            "99925\n",
            "99963\n",
            "99599\n",
            "399453\n",
            "401274\n"
          ]
        }
      ]
    },
    {
      "cell_type": "code",
      "source": [
        "%matplotlib inline\n",
        "import plotly.express as px\n",
        "import matplotlib.pyplot as plt\n",
        "df = px.data.iris()\n",
        "fig = px.scatter_3d(zz, x=0, y=1, z=2,\n",
        "              color='cluster')\n",
        "plt.show()"
      ],
      "metadata": {
        "id": "izH7agXseflD"
      },
      "execution_count": 6,
      "outputs": []
    },
    {
      "cell_type": "code",
      "source": [
        "import plotly.express as px\n",
        "df = px.data.iris()\n",
        "fig = px.scatter_3d(zz, x=0, y=1, z=2,\n",
        "              color='cluster')\n",
        "fig.show()"
      ],
      "metadata": {
        "id": "_TKqqR9TJozL"
      },
      "execution_count": 9,
      "outputs": []
    },
    {
      "cell_type": "code",
      "source": [
        "from mdcgenpy import clusters as cl\n",
        "import numpy as np\n",
        "import pandas as pd\n",
        "\n",
        "# Parameters for generating datasets\n",
        "outliers = [0, 500]\n",
        "noise_options = [(0, None), (0.1, 100)]\n",
        "n_clusters = [3, 5, 10]\n",
        "n_samples = [100_000, 1_000_000, 100_000_000]\n",
        "n_feats = [2, 10, 50, 100, 500]\n",
        "compactness_factors = [0.1, 0.5, 1]\n",
        "\n",
        "# Distributions for cluster shapes\n",
        "dist_options = ['uniform', 'gaussian', 'logistic', 'triangular', 'gamma', 'gap']\n",
        "\n",
        "datasets = []\n",
        "\n",
        "for outlier in outliers:\n",
        "    for add_noise, n_noise in noise_options:\n",
        "        for k in n_clusters:\n",
        "            for n_sample in n_samples:\n",
        "                for n_feat in n_feats:\n",
        "                    for compactness_factor in compactness_factors:\n",
        "                        for distribution in dist_options:\n",
        "                            distributions = [distribution] * k\n",
        "                            cluster_gen = cl.ClusterGenerator(\n",
        "                                n_samples=n_sample,\n",
        "                                outliers=outlier,\n",
        "                                n_feats=n_feat,\n",
        "                                k=k,\n",
        "                                distributions=distributions,\n",
        "                                compactness_factor=compactness_factor,\n",
        "                                add_noise=add_noise,\n",
        "                                n_noise=n_noise\n",
        "                            )\n",
        "                            data = cluster_gen.generate_data()\n",
        "                            datasets.append(data)\n"
      ],
      "metadata": {
        "id": "5pJEr2Vo5LyR",
        "outputId": "a7ac1d7c-3c10-4999-99b0-48b9e888462f",
        "colab": {
          "base_uri": "https://localhost:8080/"
        }
      },
      "execution_count": null,
      "outputs": [
        {
          "output_type": "stream",
          "name": "stdout",
          "text": [
            "36803\n",
            "52097\n",
            "11100\n",
            "36803\n",
            "52097\n",
            "11100\n",
            "36803\n",
            "52097\n",
            "11100\n",
            "36803\n",
            "52097\n",
            "11100\n",
            "36803\n",
            "52097\n",
            "11100\n",
            "36803\n",
            "52097\n",
            "11100\n",
            "36803\n",
            "52097\n",
            "11100\n",
            "36803\n",
            "52097\n",
            "11100\n",
            "36803\n",
            "52097\n",
            "11100\n",
            "36803\n",
            "52097\n",
            "11100\n",
            "36803\n",
            "52097\n",
            "11100\n",
            "36803\n",
            "52097\n",
            "11100\n",
            "36803\n",
            "52097\n",
            "11100\n",
            "36803\n",
            "52097\n",
            "11100\n",
            "36803\n",
            "52097\n",
            "11100\n",
            "36803\n",
            "52097\n",
            "11100\n",
            "36803\n",
            "52097\n",
            "11100\n",
            "36803\n",
            "52097\n",
            "11100\n",
            "36776\n",
            "52121\n",
            "11103\n",
            "36776\n",
            "52121\n",
            "11103\n",
            "36776\n",
            "52121\n",
            "11103\n",
            "36776\n",
            "52121\n",
            "11103\n",
            "36776\n",
            "52121\n",
            "11103\n",
            "36776\n",
            "52121\n",
            "11103\n",
            "36776\n",
            "52121\n",
            "11103\n",
            "36776\n",
            "52121\n",
            "11103\n",
            "36776\n",
            "52121\n",
            "11103\n",
            "36776\n",
            "52121\n",
            "11103\n",
            "36776\n",
            "52121\n",
            "11103\n",
            "36776\n",
            "52121\n",
            "11103\n",
            "36776\n",
            "52121\n",
            "11103\n",
            "36776\n",
            "52121\n",
            "11103\n",
            "36776\n",
            "52121\n",
            "11103\n",
            "36776\n",
            "52121\n",
            "11103\n",
            "36776\n",
            "52121\n",
            "11103\n",
            "36776\n",
            "52121\n",
            "11103\n",
            "36788\n",
            "51930\n",
            "11282\n",
            "36788\n",
            "51930\n",
            "11282\n",
            "36788\n",
            "51930\n",
            "11282\n",
            "36788\n",
            "51930\n",
            "11282\n",
            "36788\n",
            "51930\n",
            "11282\n",
            "36788\n",
            "51930\n",
            "11282\n",
            "36788\n",
            "51930\n",
            "11282\n",
            "36788\n",
            "51930\n",
            "11282\n",
            "36788\n",
            "51930\n",
            "11282\n",
            "36788\n",
            "51930\n",
            "11282\n",
            "36788\n",
            "51930\n",
            "11282\n",
            "36788\n",
            "51930\n",
            "11282\n",
            "36788\n",
            "51930\n",
            "11282\n",
            "36788\n",
            "51930\n",
            "11282\n",
            "36788\n",
            "51930\n",
            "11282\n",
            "36788\n",
            "51930\n",
            "11282\n",
            "36788\n",
            "51930\n",
            "11282\n",
            "36788\n",
            "51930\n",
            "11282\n",
            "36377\n",
            "52464\n",
            "11159\n",
            "36377\n",
            "52464\n",
            "11159\n",
            "36377\n",
            "52464\n",
            "11159\n",
            "36377\n",
            "52464\n",
            "11159\n",
            "36377\n",
            "52464\n",
            "11159\n",
            "36377\n",
            "52464\n",
            "11159\n",
            "36377\n",
            "52464\n",
            "11159\n",
            "36377\n",
            "52464\n",
            "11159\n",
            "36377\n",
            "52464\n",
            "11159\n",
            "36377\n",
            "52464\n",
            "11159\n",
            "36377\n",
            "52464\n",
            "11159\n",
            "36377\n",
            "52464\n",
            "11159\n",
            "36377\n",
            "52464\n",
            "11159\n",
            "36377\n",
            "52464\n",
            "11159\n",
            "36377\n",
            "52464\n",
            "11159\n",
            "36377\n",
            "52464\n",
            "11159\n",
            "36377\n",
            "52464\n",
            "11159\n",
            "36377\n",
            "52464\n",
            "11159\n",
            "36298\n",
            "52605\n",
            "11097\n",
            "36298\n",
            "52605\n",
            "11097\n",
            "36298\n",
            "52605\n",
            "11097\n",
            "36298\n",
            "52605\n",
            "11097\n",
            "36298\n",
            "52605\n",
            "11097\n",
            "36298\n",
            "52605\n",
            "11097\n",
            "36298\n",
            "52605\n",
            "11097\n",
            "36298\n",
            "52605\n",
            "11097\n",
            "36298\n",
            "52605\n",
            "11097\n",
            "36298\n",
            "52605\n",
            "11097\n"
          ]
        }
      ]
    }
  ]
}