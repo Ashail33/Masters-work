{
  "nbformat": 4,
  "nbformat_minor": 0,
  "metadata": {
    "colab": {
      "provenance": [],
      "authorship_tag": "ABX9TyP5m+iCxsjX4/R2+YAL1+WQ",
      "include_colab_link": true
    },
    "kernelspec": {
      "name": "python3",
      "display_name": "Python 3"
    },
    "language_info": {
      "name": "python"
    }
  },
  "cells": [
    {
      "cell_type": "markdown",
      "metadata": {
        "id": "view-in-github",
        "colab_type": "text"
      },
      "source": [
        "<a href=\"https://colab.research.google.com/github/Ashail33/Masters-work/blob/master/davies%20bouldin%20index.ipynb\" target=\"_parent\"><img src=\"https://colab.research.google.com/assets/colab-badge.svg\" alt=\"Open In Colab\"/></a>"
      ]
    },
    {
      "cell_type": "code",
      "execution_count": null,
      "metadata": {
        "id": "vVy1vnueJppI"
      },
      "outputs": [],
      "source": [
        "def davies_bouldin_index(data, clusters):\n",
        "\n",
        "calculate means for each cluster\n",
        "cluster_means = [np.mean(cluster, axis=0) for cluster in clusters]\n",
        "\n",
        "calculate intra-cluster distances\n",
        "intra_cluster_distances = [np.mean([distance(point, cluster_mean) for point in cluster]) for cluster, cluster_mean in zip(clusters, cluster_means)]\n",
        "\n",
        "calculate inter-cluster distances\n",
        "inter_cluster_distances = []\n",
        "for i in range(len(clusters)):\n",
        "distances = []\n",
        "for j in range(len(clusters)):\n",
        "if i != j:\n",
        "distances.append(distance(cluster_means[i], cluster_means[j]))\n",
        "inter_cluster_distances.append(max(distances))\n",
        "\n",
        "calculate Davies-Bouldin Index\n",
        "db_index = 0\n",
        "for i in range(len(clusters)):\n",
        "db_index += intra_cluster_distances[i] / inter_cluster_distances[i]\n",
        "\n",
        "return db_index / len(clusters)"
      ]
    }
  ]
}